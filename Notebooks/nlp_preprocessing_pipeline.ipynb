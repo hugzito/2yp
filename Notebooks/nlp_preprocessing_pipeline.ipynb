{
 "cells": [
  {
   "cell_type": "code",
   "execution_count": 8,
   "metadata": {
    "colab": {
     "base_uri": "https://localhost:8080/"
    },
    "id": "3dKxD4o7kJqg",
    "outputId": "c76d1824-45f5-4617-d268-705f15ae378f"
   },
   "outputs": [],
   "source": [
    "#importa\n",
    "import torch \n",
    "import pandas as pd\n",
    "import numpy as np\n",
    "from nltk.tokenize import TweetTokenizer\n",
    "import scipy\n",
    "import seaborn\n",
    "import matplotlib.pyplot as plt\n",
    "from scipy.special import softmax\n",
    "import torch\n",
    "import torch.nn as nn\n",
    "import pickle as pkl\n",
    "import gzip\n",
    "from nltk import TweetTokenizer\n",
    "from sklearn.model_selection import train_test_split\n",
    "from sklearn.feature_extraction.text import CountVectorizer, TfidfTransformer, TfidfVectorizer\n",
    "import json\n",
    "import pandas as pd\n",
    "import os \n",
    "import numpy as np\n",
    "import joblib \n",
    "from sklearn.pipeline import Pipeline\n",
    "from sklearn import naive_bayes, svm\n",
    "from sklearn.metrics import accuracy_score\n",
    "from sklearn.preprocessing import StandardScaler\n",
    "import math\n",
    "from torch.utils.data import TensorDataset, DataLoader\n",
    "from sklearn.linear_model import LogisticRegression\n",
    "from scipy.special import softmax\n",
    "seed = 1234\n",
    "data_path = '../Cleaned_data/final/'"
   ]
  },
  {
   "cell_type": "code",
   "execution_count": 9,
   "metadata": {},
   "outputs": [
    {
     "data": {
      "text/plain": [
       "['amazon_reviews.csv',\n",
       " 'kindle_reviews.csv',\n",
       " 'steam_reviews.csv',\n",
       " 'imdb_reviews.csv',\n",
       " 'wine_reviews.csv',\n",
       " 'hotel_reviews.csv',\n",
       " 'disneyland_reviews.csv']"
      ]
     },
     "execution_count": 9,
     "metadata": {},
     "output_type": "execute_result"
    }
   ],
   "source": [
    "os.listdir(data_path)"
   ]
  },
  {
   "cell_type": "markdown",
   "metadata": {},
   "source": [
    "## Creating baseline models\n",
    "- Multinomial Naive Bayes\n",
    "- Logistic Regression model\n",
    "- Everything is based on Vectorized TF-IDs for sentences. "
   ]
  },
  {
   "cell_type": "code",
   "execution_count": 14,
   "metadata": {
    "colab": {
     "base_uri": "https://localhost:8080/"
    },
    "id": "b0q-j9lGK_Vc",
    "outputId": "1b3547c5-7b13-47d7-9943-8dbc6b34e53d"
   },
   "outputs": [
    {
     "name": "stdout",
     "output_type": "stream",
     "text": [
      "Now using steam_reviews.csv as training data--------------\n",
      "Naive Bayes Accuracy Score ->  73.0\n",
      "Logistic Regression Accuracy Score ->  70.0 \n",
      "\n",
      "\n",
      "\n",
      "Now using imdb_reviews.csv as training data--------------\n",
      "Naive Bayes Accuracy Score ->  75.5\n",
      "Logistic Regression Accuracy Score ->  81.0 \n",
      "\n",
      "\n",
      "\n",
      "Now using wine_reviews.csv as training data--------------\n",
      "Naive Bayes Accuracy Score ->  62.0\n",
      "Logistic Regression Accuracy Score ->  62.5 \n",
      "\n",
      "\n",
      "\n",
      "Now using hotel_reviews.csv as training data--------------\n",
      "Naive Bayes Accuracy Score ->  65.5\n",
      "Logistic Regression Accuracy Score ->  63.0 \n",
      "\n",
      "\n",
      "\n",
      "Now using disneyland_reviews.csv as training data--------------\n",
      "Naive Bayes Accuracy Score ->  74.0\n",
      "Logistic Regression Accuracy Score ->  65.5 \n",
      "\n",
      "\n",
      "\n"
     ]
    }
   ],
   "source": [
    "tokenizer = TweetTokenizer()\n",
    "lr = []\n",
    "nb = []\n",
    "data2 = pd.read_csv('../Cleaned_data/final/kindle_reviews.csv')\n",
    "data2.dropna(inplace=True)\n",
    "data2['text'] = [entry.lower() for entry in data2['text']]\n",
    "data2['text'] = [tokenizer.tokenize(sen) for sen in data2['text']]\n",
    "data2 ['text'] = [str(sen) for sen in data2['text']]\n",
    "_, X_test, _, y_test = train_test_split(data2['text'], data2['label'], test_size = 0.2, random_state = seed)\n",
    "Naive = naive_bayes.MultinomialNB()\n",
    "model = LogisticRegression(random_state =seed, max_iter = 1000)\n",
    "scaler = StandardScaler(with_mean=False)\n",
    "for i in os.listdir(data_path):\n",
    "    if i not in ['kindle_reviews.csv', 'amazon_reviews.csv']:\n",
    "        print(f'Now using {i} as training data--------------' )\n",
    "        data = pd.read_csv(f'{data_path}{i}')\n",
    "        data.dropna(inplace=True)\n",
    "        data['text'] = [entry.lower() for entry in data['text']]\n",
    "        data ['text'] = [str(sen) for sen in data['text']]\n",
    "        X_train = data['text']\n",
    "        y_train = data['label']\n",
    "        X_train = [tokenizer.tokenize(sen) for sen in X_train]\n",
    "        X_train = [str(sen) for sen in X_train]\n",
    "        Tfidf_vect = TfidfVectorizer(max_features=5000)\n",
    "        Train_X_Tfidf = scaler.fit_transform(Tfidf_vect.fit_transform(X_train))\n",
    "        Test_X_Tfidf = scaler.fit_transform(Tfidf_vect.transform(X_test))\n",
    "        # fit the training dataset on the NB classifier\n",
    "        Naive.fit(Train_X_Tfidf,y_train)\n",
    "        model.fit(Train_X_Tfidf,y_train)\n",
    "        # predict the labels on validation dataset\n",
    "        predictions_NB = Naive.predict(Test_X_Tfidf)\n",
    "        preds = model.predict(Test_X_Tfidf)\n",
    "        # Use accuracy_score function to get the accuracy\n",
    "        print(\"Naive Bayes Accuracy Score -> \",accuracy_score(predictions_NB, y_test)*100)\n",
    "        nb.append((i,accuracy_score(predictions_NB,y_test)))\n",
    "        print(\"Logistic Regression Accuracy Score -> \",accuracy_score(preds, y_test)*100, '\\n\\n\\n')\n",
    "        lr.append((i,accuracy_score(preds,y_test)))\n",
    "    else:\n",
    "        pass"
   ]
  },
  {
   "cell_type": "code",
   "execution_count": 27,
   "metadata": {
    "colab": {
     "base_uri": "https://localhost:8080/"
    },
    "id": "n4fGc3oQ8v0f",
    "outputId": "fa6a4e4c-1bd6-4040-b37b-6a257da203bb"
   },
   "outputs": [
    {
     "name": "stdout",
     "output_type": "stream",
     "text": [
      "{'steam_reviews.csv': 1029.0, 'imdb_reviews.csv': 1055.0, 'wine_reviews.csv': 922.0, 'hotel_reviews.csv': 955.0, 'disneyland_reviews.csv': 1039.0}\n",
      "{'steam_reviews.csv': 1014.0, 'imdb_reviews.csv': 1132.0, 'wine_reviews.csv': 940.0, 'hotel_reviews.csv': 945.0, 'disneyland_reviews.csv': 969.0}\n"
     ]
    }
   ],
   "source": [
    "nb_res = []\n",
    "lr_res = []\n",
    "for i, j in nb:\n",
    "    nb_res.append(j)\n",
    "for i, j in lr:\n",
    "    lr_res.append(j)\n",
    "nb_res = softmax(np.array(nb_res))\n",
    "lr_res = softmax(np.array(lr_res))\n",
    "nb_dict = {}\n",
    "lr_dict = {}\n",
    "for i, j in zip(nb, nb_res):\n",
    "    nb_dict[i[0]] = round(5000*j,0)\n",
    "for i, j in zip(lr, lr_res):\n",
    "    lr_dict[i[0]] =  round(5000*j,0)\n",
    "    \n",
    "print(nb_dict)\n",
    "print(lr_dict)"
   ]
  },
  {
   "cell_type": "code",
   "execution_count": 28,
   "metadata": {},
   "outputs": [
    {
     "name": "stdout",
     "output_type": "stream",
     "text": [
      "dict_keys(['amazon_reviews.csv', 'kindle_reviews.csv', 'steam_reviews.csv', 'imdb_reviews.csv', 'wine_reviews.csv', 'hotel_reviews.csv', 'disneyland_reviews.csv'])\n"
     ]
    }
   ],
   "source": [
    "'''We set a training limit of 5000 sentences, because of training and data limitations.'''\n",
    "datasets = ['imdb', 'steam_reviews', 'hotels', 'wine', 'disneyland']\n",
    "data_dict = {}\n",
    "\n",
    "for idx, dataset in enumerate(os.listdir(data_path)):\n",
    "    data_dict[dataset] = pd.read_csv(f'{data_path}{dataset}')\n",
    "nb_df = {}\n",
    "print(data_dict.keys())\n",
    "for i in data_dict:\n",
    "    if i not in ['kindle_reviews.csv', 'amazon_reviews.csv']:\n",
    "        nb_df[i] = data_dict[i].sample(n = int(nb_dict[i]), random_state=seed)\n",
    "lr_df = {}\n",
    "for i in data_dict:\n",
    "    if i not in ['kindle_reviews.csv', 'amazon_reviews.csv']:\n",
    "        lr_df[i] = data_dict[i].sample(n = int(lr_dict[i]), random_state=seed)\n"
   ]
  },
  {
   "cell_type": "code",
   "execution_count": 30,
   "metadata": {},
   "outputs": [
    {
     "name": "stdout",
     "output_type": "stream",
     "text": [
      "# pos labels: 4016 \n",
      "# neg labels: 984 \n",
      "\n",
      "# pos labels: 4037 \n",
      "# neg labels: 963\n"
     ]
    }
   ],
   "source": [
    "NB_synth = pd.concat([nb_df['imdb_reviews.csv'],nb_df['steam_reviews.csv'],nb_df['disneyland_reviews.csv'],nb_df['wine_reviews.csv'],nb_df['hotel_reviews.csv']], ignore_index=True).sample(frac=1, random_state=seed)\n",
    "LR_synth = pd.concat([lr_df['imdb_reviews.csv'],lr_df['steam_reviews.csv'],lr_df['disneyland_reviews.csv'],lr_df['wine_reviews.csv'],lr_df['hotel_reviews.csv']], ignore_index=True).sample(frac=1, random_state=seed)\n",
    "\n",
    "print('# pos labels:',sum(LR_synth['label']),'\\n# neg labels:',len(LR_synth)- sum(LR_synth['label']), '\\n')\n",
    "print('# pos labels:',sum(NB_synth['label']),'\\n# neg labels:',len(NB_synth)- sum(NB_synth['label']))"
   ]
  },
  {
   "cell_type": "code",
   "execution_count": 31,
   "metadata": {},
   "outputs": [],
   "source": [
    "NB_synth.to_csv('synthesized_data/NB_data.csv', index=False)\n",
    "LR_synth.to_csv('synthesized_data/LR_data.csv', index=False)"
   ]
  },
  {
   "cell_type": "markdown",
   "metadata": {},
   "source": [
    "## Second Baseline: \n",
    "- We wanted to also allocate sentences based on the softmaxed accuracy scores for our baseline models"
   ]
  },
  {
   "cell_type": "code",
   "execution_count": 32,
   "metadata": {},
   "outputs": [
    {
     "data": {
      "text/plain": [
       "['amazon_reviews.csv',\n",
       " 'disneyland_reviews.csv',\n",
       " 'hotel_reviews.csv',\n",
       " 'imdb_reviews.csv',\n",
       " 'kindle_reviews.csv',\n",
       " 'steam_reviews.csv',\n",
       " 'wine_reviews.csv']"
      ]
     },
     "execution_count": 32,
     "metadata": {},
     "output_type": "execute_result"
    }
   ],
   "source": [
    "# Section for JS divergence \n",
    "sorted(os.listdir('../Cleaned_data/final/'))"
   ]
  },
  {
   "cell_type": "code",
   "execution_count": 33,
   "metadata": {
    "colab": {
     "base_uri": "https://localhost:8080/"
    },
    "id": "Z-fgPTzhP_0O",
    "outputId": "4cea31bf-7f03-4284-d567-40a564a1d591"
   },
   "outputs": [
    {
     "data": {
      "text/html": [
       "<div>\n",
       "<style scoped>\n",
       "    .dataframe tbody tr th:only-of-type {\n",
       "        vertical-align: middle;\n",
       "    }\n",
       "\n",
       "    .dataframe tbody tr th {\n",
       "        vertical-align: top;\n",
       "    }\n",
       "\n",
       "    .dataframe thead th {\n",
       "        text-align: right;\n",
       "    }\n",
       "</style>\n",
       "<table border=\"1\" class=\"dataframe\">\n",
       "  <thead>\n",
       "    <tr style=\"text-align: right;\">\n",
       "      <th></th>\n",
       "      <th>text</th>\n",
       "      <th>label</th>\n",
       "    </tr>\n",
       "  </thead>\n",
       "  <tbody>\n",
       "    <tr>\n",
       "      <th>0</th>\n",
       "      <td>I was just having a casual day, you know, usin...</td>\n",
       "      <td>1</td>\n",
       "    </tr>\n",
       "    <tr>\n",
       "      <th>1</th>\n",
       "      <td>If I'm gonna die, I'm gonna die historic in th...</td>\n",
       "      <td>1</td>\n",
       "    </tr>\n",
       "    <tr>\n",
       "      <th>2</th>\n",
       "      <td>Will pay for another mountain so my mountain c...</td>\n",
       "      <td>1</td>\n",
       "    </tr>\n",
       "    <tr>\n",
       "      <th>3</th>\n",
       "      <td>Not worth the price. Frustrating matchmaking a...</td>\n",
       "      <td>0</td>\n",
       "    </tr>\n",
       "    <tr>\n",
       "      <th>4</th>\n",
       "      <td>I enjoyed both this and the second game. Same ...</td>\n",
       "      <td>1</td>\n",
       "    </tr>\n",
       "  </tbody>\n",
       "</table>\n",
       "</div>"
      ],
      "text/plain": [
       "                                                text  label\n",
       "0  I was just having a casual day, you know, usin...      1\n",
       "1  If I'm gonna die, I'm gonna die historic in th...      1\n",
       "2  Will pay for another mountain so my mountain c...      1\n",
       "3  Not worth the price. Frustrating matchmaking a...      0\n",
       "4  I enjoyed both this and the second game. Same ...      1"
      ]
     },
     "execution_count": 33,
     "metadata": {},
     "output_type": "execute_result"
    }
   ],
   "source": [
    "js = scipy.spatial.distance.jensenshannon\n",
    "\n",
    "imdb = pd.read_csv('../Cleaned_data/final/imdb_reviews.csv')\n",
    "steam = pd.read_csv('../Cleaned_data/final/steam_reviews.csv')\n",
    "hotels = pd.read_csv('../Cleaned_data/final/hotel_reviews.csv')\n",
    "steam = steam.drop(steam[steam.label == 'null'].index)\n",
    "hotels = hotels.drop(hotels[hotels.label == 'null'].index)\n",
    "wine = pd.read_csv('../Cleaned_data/final/wine_reviews.csv')\n",
    "disneyland = pd.read_csv('../Cleaned_data/final/disneyland_reviews.csv')\n",
    "kindle = pd.read_csv('../Cleaned_data/final/kindle_reviews.csv')\n",
    "wine = wine.drop(wine[wine.label == 'null'].index)\n",
    "disneyland = disneyland.drop(disneyland[disneyland.label == 'null'].index)\n",
    "hotels.name = 'hotels'\n",
    "steam.name = 'steam'\n",
    "imdb.name = 'imdb'\n",
    "disneyland.name = 'disneyland'\n",
    "wine.name = 'wine'\n",
    "steam.head()"
   ]
  },
  {
   "cell_type": "code",
   "execution_count": 35,
   "metadata": {
    "id": "iVwGcos3Qs3o"
   },
   "outputs": [],
   "source": [
    "imdb_text = imdb['text']\n",
    "wine_text = wine['text']\n",
    "disneyland_text = disneyland['text']\n",
    "steam_text = steam['text']\n",
    "hotels_text = hotels['text']\n",
    "kindle_text = kindle['text']"
   ]
  },
  {
   "cell_type": "code",
   "execution_count": 36,
   "metadata": {},
   "outputs": [],
   "source": [
    "datasets = [imdb_text, steam_text, wine_text, hotels_text, disneyland_text, kindle_text]\n",
    "w2idx = {}\n",
    "idx2w = {}\n",
    "tokenizer = TweetTokenizer()\n",
    "bruh = {}\n",
    "wc = 0\n",
    "for idx, data_text in enumerate(datasets):\n",
    "    word_counts = [0 for i in range(1000000)]\n",
    "    for line_idx, line in enumerate(data_text):\n",
    "        if type(line) == str:\n",
    "            for word in tokenizer.tokenize(line):\n",
    "                if word not in w2idx:\n",
    "                    w2idx[word] = wc\n",
    "                    idx2w[wc] = word\n",
    "                    word_counts[wc] = 1\n",
    "                    wc+=1\n",
    "                else:\n",
    "                    try: \n",
    "                        word_counts[w2idx[word]] += 1\n",
    "                    except:\n",
    "                        pass\n",
    "    bruh[idx] = word_counts"
   ]
  },
  {
   "cell_type": "code",
   "execution_count": 37,
   "metadata": {},
   "outputs": [
    {
     "name": "stdout",
     "output_type": "stream",
     "text": [
      "loop number: 1\n",
      "loop number: 2\n",
      "loop number: 3\n",
      "loop number: 4\n",
      "loop number: 5\n",
      "loop number: 6\n",
      "[[0.         0.34980431 0.45952835 0.44786086 0.39955701 0.33330789]\n",
      " [0.34980431 0.         0.42655173 0.434521   0.37765442 0.36447711]\n",
      " [0.45952835 0.42655173 0.         0.43695849 0.42090844 0.42975228]\n",
      " [0.44786086 0.434521   0.43695849 0.         0.35178323 0.43376445]\n",
      " [0.39955701 0.37765442 0.42090844 0.35178323 0.         0.39716401]\n",
      " [0.33330789 0.36447711 0.42975228 0.43376445 0.39716401 0.        ]]\n"
     ]
    }
   ],
   "source": [
    "counter = 1\n",
    "arr = np.zeros((6, 6))\n",
    "for i in bruh.keys():\n",
    "    print(f'loop number: {counter}')\n",
    "    for j in bruh.keys():\n",
    "        arr[i,j] = js(np.array(bruh[i]), (bruh[j]))\n",
    "    counter +=1\n",
    "print(arr)"
   ]
  },
  {
   "cell_type": "code",
   "execution_count": 38,
   "metadata": {},
   "outputs": [],
   "source": [
    "#print(arr)\n",
    "av_dists = []\n",
    "for i in arr:\n",
    "    #print(np.sum(i)/4)\n",
    "    av_dists.append(np.sum(i)/4)"
   ]
  },
  {
   "cell_type": "code",
   "execution_count": 39,
   "metadata": {},
   "outputs": [],
   "source": [
    "#for i, j in zip(datasets1, av_dists):\n",
    "#    print(f'Average distance to {i}: {j.round(4)}')\n",
    "arr2 = np.zeros((6,7))\n",
    "for i in bruh.keys():\n",
    "    for j in bruh.keys():\n",
    "        arr2[i,j] = js(np.array(bruh[i]), (bruh[j]))\n",
    "for j in range(len(av_dists)):\n",
    "    arr2[j, 6] = av_dists[j]"
   ]
  },
  {
   "cell_type": "code",
   "execution_count": 40,
   "metadata": {},
   "outputs": [
    {
     "data": {
      "text/plain": [
       "<AxesSubplot:title={'center':'Jensen-Shannon distance between domains'}>"
      ]
     },
     "execution_count": 40,
     "metadata": {},
     "output_type": "execute_result"
    },
    {
     "data": {
      "image/png": "[encoded data removed]",
      "text/plain": [
       "<Figure size 432x288 with 2 Axes>"
      ]
     },
     "metadata": {
      "needs_background": "light"
     },
     "output_type": "display_data"
    }
   ],
   "source": [
    "datasets1 = ['imdb', 'steam', 'wine', 'hotels', 'disneyland','kindle', 'average']\n",
    "ax = plt.axes()\n",
    "seaborn.set(rc = {'figure.figsize':(10,7)})\n",
    "ax.set_title('Jensen-Shannon distance between domains')\n",
    "seaborn.heatmap(arr2, xticklabels=datasets1, yticklabels=datasets1[:-1], annot=True)"
   ]
  },
  {
   "cell_type": "code",
   "execution_count": 57,
   "metadata": {},
   "outputs": [
    {
     "name": "stdout",
     "output_type": "stream",
     "text": [
      "0.33330788598701677\n",
      "0.3644771064384126\n",
      "0.42975228165000745\n",
      "0.4337644542244076\n",
      "0.39716400848455524\n",
      "steam_reviews.csv 0.21186726700951247\n",
      "imdb_reviews.csv 0.20536538513638222\n",
      "wine_reviews.csv 0.19238827274698914\n",
      "hotel_reviews.csv 0.19161792421445692\n",
      "disneyland_reviews.csv 0.19876115089265908\n",
      "steam_reviews.csv 1059.0\n",
      "imdb_reviews.csv 1027.0\n",
      "wine_reviews.csv 962.0\n",
      "hotel_reviews.csv 958.0\n",
      "disneyland_reviews.csv 994.0\n",
      "# pos labels: 4044 \n",
      "# neg labels: 956\n"
     ]
    }
   ],
   "source": [
    "l = []\n",
    "for i in arr[:-1,5]:\n",
    "    print(i)\n",
    "    l.append(1-i)\n",
    "JS_dict = {}\n",
    "for i, j in zip(list(nb_dict.keys()),softmax(np.array(l))):\n",
    "    print(i, j)\n",
    "    JS_dict[i] = round(5000*j,0)\n",
    "for i in JS_dict:\n",
    "    print(i, JS_dict[i])\n",
    "JS_df = {}\n",
    "for i in data_dict.keys():\n",
    "    if i not in ['amazon_reviews.csv','kindle_reviews.csv']:\n",
    "        JS_df[i] = data_dict[i].sample(n = int(JS_dict[i]), random_state=seed)\n",
    "JS_synth = pd.concat([JS_df['imdb_reviews.csv'],JS_df['steam_reviews.csv'],JS_df['disneyland_reviews.csv'],JS_df['wine_reviews.csv'],JS_df['hotel_reviews.csv']], ignore_index=True).sample(frac=1, random_state=seed)\n",
    "print('# pos labels:',sum(JS_synth['label']),'\\n# neg labels:',len(JS_synth)- sum(JS_synth['label']))"
   ]
  },
  {
   "cell_type": "code",
   "execution_count": 51,
   "metadata": {},
   "outputs": [],
   "source": [
    "JS_synth.to_csv('synthesized_data/JS_data.csv', index=False)"
   ]
  },
  {
   "cell_type": "code",
   "execution_count": 52,
   "metadata": {},
   "outputs": [],
   "source": [
    "all_dict = {}\n",
    "for i in data_dict.keys():\n",
    "    all_dict[i] = data_dict[i].sample(n = 1000, random_state=seed)\n",
    "all_df = JS_synth = pd.concat([all_dict['imdb_reviews.csv'],all_dict['steam_reviews.csv'],all_dict['disneyland_reviews.csv'],all_dict['wine_reviews.csv'],all_dict['hotel_reviews.csv']], ignore_index=True).sample(frac=1, random_state=seed)"
   ]
  },
  {
   "cell_type": "code",
   "execution_count": 54,
   "metadata": {},
   "outputs": [],
   "source": [
    "all_df.to_csv('synthesized_data/equal_amounts.csv')"
   ]
  },
  {
   "cell_type": "markdown",
   "metadata": {},
   "source": [
    "## Computing pos/neg for new datasets\n"
   ]
  },
  {
   "cell_type": "code",
   "execution_count": 55,
   "metadata": {},
   "outputs": [
    {
     "name": "stdout",
     "output_type": "stream",
     "text": [
      "# pos labels: 4061 \n",
      "# neg labels: 939\n"
     ]
    }
   ],
   "source": [
    "print('# pos labels:',sum(all_df['label']),'\\n# neg labels:',len(all_df)- sum(all_df['label']))"
   ]
  },
  {
   "cell_type": "code",
   "execution_count": null,
   "metadata": {},
   "outputs": [],
   "source": []
  }
 ],
 "metadata": {
  "colab": {
   "name": "nlp_preprocessing_pipeline.ipynb",
   "provenance": []
  },
  "kernelspec": {
   "display_name": "Python 3 (ipykernel)",
   "language": "python",
   "name": "python3"
  },
  "language_info": {
   "codemirror_mode": {
    "name": "ipython",
    "version": 3
   },
   "file_extension": ".py",
   "mimetype": "text/x-python",
   "name": "python",
   "nbconvert_exporter": "python",
   "pygments_lexer": "ipython3",
   "version": "3.9.12"
  }
 },
 "nbformat": 4,
 "nbformat_minor": 1
}
