{
 "cells": [
  {
   "cell_type": "code",
   "execution_count": 14,
   "id": "c6adab72",
   "metadata": {},
   "outputs": [
    {
     "data": {
      "text/plain": [
       "['.DS_Store',\n",
       " 'Datafiniti_Hotel_Reviews.csv',\n",
       " 'DisneylandReviews.csv',\n",
       " 'all_kindle_review .csv',\n",
       " 'amazon.csv',\n",
       " 'imdb_data',\n",
       " 'steam_reviews.csv',\n",
       " 'wine reviews.csv']"
      ]
     },
     "execution_count": 14,
     "metadata": {},
     "output_type": "execute_result"
    }
   ],
   "source": [
    "import os \n",
    "import pandas as pd \n",
    "import numpy as np\n",
    "seed = 1234\n",
    "sorted(os.listdir('Raw_data'))"
   ]
  },
  {
   "cell_type": "code",
   "execution_count": 17,
   "id": "9a6d1562",
   "metadata": {
    "scrolled": true
   },
   "outputs": [],
   "source": [
    "wine = pd.read_csv('Raw_data/wine reviews.csv').drop(['Brand', 'Sl.No.', 'Name', 'Reviews Date Added', 'Reviews do Recommend', 'Reviews Num Helpful', 'Reviews Title', 'Weight'], inplace =False,  axis =1).dropna()\n",
    "steam = pd.read_csv('Raw_data/steam_reviews.csv').dropna().drop(['app_id', 'app_name', 'review_votes'], inplace =False,  axis =1)\n",
    "hotels = pd.read_csv('Raw_data/Datafiniti_Hotel_Reviews.csv').dropna().drop(['postalCode', 'dateUpdated', 'name', 'province', 'reviews.date', 'reviews.sourceURLs','id', 'dateAdded', 'address', 'categories', 'primaryCategories', 'city', 'country', 'keys', 'latitude', 'longitude', 'reviews.dateSeen', 'reviews.title', 'reviews.userCity', 'reviews.userProvince', 'reviews.username', 'sourceURLs', 'websites'], inplace=False, axis=1)\n",
    "imdb = pd.read_csv('Raw_data/imdb_data/train.csv').dropna()\n",
    "disneyland = pd.read_csv('Raw_data/DisneylandReviews.csv', encoding ='latin1').dropna().drop(['Review_ID', 'Year_Month', 'Reviewer_Location', 'Branch'], inplace=False, axis=1)\n",
    "kindle = pd.read_csv('Raw_data/all_kindle_review .csv').dropna().drop(['asin', 'helpful', 'reviewTime', 'reviewerID','summary', 'unixReviewTime', 'Unnamed: 0.1', 'Unnamed: 0', 'reviewerName'], inplace=False, axis=1)\n",
    "amazon = pd.read_csv('Raw_data/amazon.csv', names = ['rating', 'title', 'text']).drop(['title'],axis=1).dropna()"
   ]
  },
  {
   "cell_type": "code",
   "execution_count": 26,
   "id": "c9c7fba4",
   "metadata": {},
   "outputs": [
    {
     "name": "stdout",
     "output_type": "stream",
     "text": [
      "                                               review_text  review_score label\n",
      "1520115  I was just having a casual day, you know, usin...             1     1\n",
      "2284762  If I'm gonna die, I'm gonna die historic in th...             1     1\n",
      "4054549  Will pay for another mountain so my mountain c...             1     1\n",
      "5188582  Not worth the price. Frustrating matchmaking a...            -1     0\n",
      "2905926  I enjoyed both this and the second game. Same ...             1     1\n"
     ]
    }
   ],
   "source": [
    "#Cleaning Steam Reviews\n",
    "steam2 = steam.sample(frac = 0.017, random_state=seed)\n",
    "steam2.head()\n",
    "l = []\n",
    "for i in steam2['review_score']:\n",
    "    if i >0:\n",
    "        l.append('1')\n",
    "    elif i <0:\n",
    "        l.append('0')\n",
    "    else:\n",
    "        l.append('null')\n",
    "steam2['label'] = l\n",
    "steam2.drop('review_score', axis = 1, inplace = True)\n",
    "steam2.rename(columns = {'review_text' : 'text'}, inplace =True)\n",
    "steam2 = steam2[steam2[\"label\"].str.contains(\"null\")==False]\n",
    "steam2.to_csv('Cleaned_data/final/steam_reviews.csv', index = False)"
   ]
  },
  {
   "cell_type": "code",
   "execution_count": 19,
   "id": "b386178d",
   "metadata": {},
   "outputs": [],
   "source": [
    "# Cleaning wine data\n",
    "l = []\n",
    "for i in wine['Reviews Rating']:\n",
    "    if i >3:\n",
    "        l.append('1')\n",
    "    elif i <3:\n",
    "        l.append('0')\n",
    "    else:\n",
    "        l.append('null')\n",
    "wine['label'] = l\n",
    "wine.drop('Reviews Rating', axis = 1, inplace = True)\n",
    "wine.rename(columns = {'Reviews Text' : 'text'}, inplace =True)\n",
    "wine = wine[wine[\"label\"].str.contains(\"null\")==False]\n",
    "wine.to_csv('Cleaned_data/final/wine_reviews.csv', index = False)"
   ]
  },
  {
   "cell_type": "code",
   "execution_count": 20,
   "id": "1f103312",
   "metadata": {},
   "outputs": [],
   "source": [
    "# Cleaning hotel reviews\n",
    "l = []\n",
    "for i in hotels['reviews.rating']:\n",
    "    if i >3:\n",
    "        l.append('1')\n",
    "    elif i <3:\n",
    "        l.append('0')\n",
    "    else:\n",
    "        l.append('null')\n",
    "hotels['label'] = l\n",
    "hotels.drop('reviews.rating', axis = 1, inplace = True)\n",
    "hotels.rename(columns = {'reviews.text' : 'text'}, inplace =True)\n",
    "hotels = hotels[hotels[\"label\"].str.contains(\"null\")==False]\n",
    "hotels.to_csv('Cleaned_data/final/hotel_reviews.csv', index = False)"
   ]
  },
  {
   "cell_type": "code",
   "execution_count": 21,
   "id": "df3ae96f",
   "metadata": {},
   "outputs": [],
   "source": [
    "# Cleaning disneyland reviews\n",
    "l = []\n",
    "for i in disneyland['Rating']:\n",
    "    if i >3:\n",
    "        l.append('1')\n",
    "    elif i <3:\n",
    "        l.append('0')\n",
    "    else:\n",
    "        l.append('null')\n",
    "disneyland['label'] = l\n",
    "disneyland.drop('Rating', axis = 1, inplace = True)\n",
    "disneyland.rename(columns = {'Review_Text' : 'text'}, inplace =True)\n",
    "disneyland = disneyland[disneyland[\"label\"].str.contains(\"null\")==False]\n",
    "disneyland.to_csv('Cleaned_data/final/disneyland_reviews.csv', index = False)"
   ]
  },
  {
   "cell_type": "code",
   "execution_count": 22,
   "id": "32b4c199",
   "metadata": {},
   "outputs": [],
   "source": [
    "# Cleaning disneyland reviews\n",
    "imdb.to_csv('Cleaned_data/final/imdb_reviews.csv', index = False)"
   ]
  },
  {
   "cell_type": "code",
   "execution_count": 23,
   "id": "aa7bdb84",
   "metadata": {},
   "outputs": [],
   "source": [
    "# Cleaning kindle reviews\n",
    "l = []\n",
    "for i in kindle['rating']:\n",
    "    if i >3:\n",
    "        l.append('1')\n",
    "    elif i <3:\n",
    "        l.append('0')\n",
    "    else:\n",
    "        l.append('null')\n",
    "kindle['label'] = l\n",
    "kindle.drop('rating', axis = 1, inplace = True)\n",
    "kindle.rename(columns = {'reviewText' : 'text'}, inplace =True)\n",
    "kindle = kindle[kindle[\"label\"].str.contains(\"null\")==False]\n",
    "kindle.sample(frac = 0.017, random_state=seed)\n",
    "kindle = kindle.sample(n =1000, random_state=seed)\n",
    "kindle.to_csv('Cleaned_data/final/kindle_reviews.csv', index = False)"
   ]
  },
  {
   "cell_type": "code",
   "execution_count": 24,
   "id": "52a36b6d",
   "metadata": {},
   "outputs": [],
   "source": [
    "l = []\n",
    "for i in amazon['rating']:\n",
    "    if i ==2:\n",
    "        l.append('1')\n",
    "    elif i ==1:\n",
    "        l.append('0')\n",
    "    else:\n",
    "        l.append('null')\n",
    "amazon['label'] = l\n",
    "amazon.drop('rating', axis = 1, inplace = True)\n",
    "amazon = amazon[amazon[\"label\"].str.contains(\"null\")==False]\n",
    "amazon = amazon.sample(n =1000, random_state=seed)\n",
    "amazon.to_csv('Cleaned_data/final/amazon_reviews.csv', index = False)"
   ]
  },
  {
   "cell_type": "code",
   "execution_count": null,
   "id": "d8431599",
   "metadata": {},
   "outputs": [],
   "source": []
  }
 ],
 "metadata": {
  "kernelspec": {
   "display_name": "Python 3 (ipykernel)",
   "language": "python",
   "name": "python3"
  },
  "language_info": {
   "codemirror_mode": {
    "name": "ipython",
    "version": 3
   },
   "file_extension": ".py",
   "mimetype": "text/x-python",
   "name": "python",
   "nbconvert_exporter": "python",
   "pygments_lexer": "ipython3",
   "version": "3.9.12"
  }
 },
 "nbformat": 4,
 "nbformat_minor": 5
}
